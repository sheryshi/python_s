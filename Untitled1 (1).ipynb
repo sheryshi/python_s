{
 "cells": [
  {
   "cell_type": "code",
   "execution_count": 3,
   "id": "7c8f15d6-1e28-4683-8bce-d330f7e4b0c6",
   "metadata": {},
   "outputs": [
    {
     "name": "stdout",
     "output_type": "stream",
     "text": [
      "sum= 55\n",
      "product= 39916800\n"
     ]
    }
   ],
   "source": [
    "#2.\n",
    "sum=0\n",
    "n=0\n",
    "product=1\n",
    "while n<=10:\n",
    "    sum=sum+n\n",
    "    n=n+1\n",
    "    product=product*n\n",
    "print(\"sum=\",sum)\n",
    "print(\"product=\",product)\n",
    "\n"
   ]
  },
  {
   "cell_type": "code",
   "execution_count": 8,
   "id": "958fdc36-f89d-46cc-9514-1db15b9f9831",
   "metadata": {},
   "outputs": [
    {
     "name": "stdin",
     "output_type": "stream",
     "text": [
      "enter the electricity unit 310\n"
     ]
    },
    {
     "name": "stdout",
     "output_type": "stream",
     "text": [
      "your electricity bill is 2250.0\n"
     ]
    }
   ],
   "source": [
    "# 3.\n",
    "n=int(input(\"enter the electricity unit\"))\n",
    "if(n<=100):\n",
    "    print(\"your electricity bill is\",n*4.5)\n",
    "elif(n<=200):\n",
    "    print(\"your electricity bill is \",100*4.5+(n-100)*6)\n",
    "elif(n<=300):\n",
    "    print(\"your electricity bill is \",100*4.5+100*6+(n-200)*10)\n",
    "else:\n",
    "    print(\"your electricity bill is\",100*4.5+100*6+100*10+(n-300)*20)"
   ]
  },
  {
   "cell_type": "code",
   "execution_count": 49,
   "id": "5e16360b-acb2-4fe6-806f-c52c09222be3",
   "metadata": {},
   "outputs": [
    {
     "name": "stdout",
     "output_type": "stream",
     "text": [
      "[0, 8, 64, 216, 512, 1000, 1728, 2744, 4096, 5832, 8000, 10648, 13824, 17576, 21952, 27000, 32768, 39304, 46656, 54872, 64000, 74088, 85184, 97336, 110592, 125000, 140608, 157464, 175616, 195112, 216000, 238328, 262144, 287496, 314432, 343000, 373248, 405224, 438976, 474552, 512000, 551368, 592704, 636056, 681472, 729000, 778688, 830584, 884736, 941192]\n"
     ]
    }
   ],
   "source": [
    "# 4.\n",
    "l=[i**3 for i in range(100)]\n",
    "l1=[]\n",
    "for i in l:\n",
    "    if(i%4==0 & i%5==0):\n",
    "        l1.append(i)\n",
    "print(l1)\n"
   ]
  },
  {
   "cell_type": "code",
   "execution_count": 53,
   "id": "06947f96-54bb-4bbc-a001-8b31858483a3",
   "metadata": {},
   "outputs": [
    {
     "data": {
      "text/plain": [
       "12"
      ]
     },
     "execution_count": 53,
     "metadata": {},
     "output_type": "execute_result"
    }
   ],
   "source": [
    "# 5.\n",
    "# i want to become a data scientist\n",
    "count=0\n",
    "l=\"i want to become a data scientist\"\n",
    "vowel='aeiou'\n",
    "for char in l:\n",
    "    if char in vowel:\n",
    "        count=count+1\n",
    "count"
   ]
  },
  {
   "cell_type": "code",
   "execution_count": null,
   "id": "f6ef0360-55d9-4389-8251-f18fff889856",
   "metadata": {},
   "outputs": [],
   "source": []
  }
 ],
 "metadata": {
  "kernelspec": {
   "display_name": "Python 3 (ipykernel)",
   "language": "python",
   "name": "python3"
  },
  "language_info": {
   "codemirror_mode": {
    "name": "ipython",
    "version": 3
   },
   "file_extension": ".py",
   "mimetype": "text/x-python",
   "name": "python",
   "nbconvert_exporter": "python",
   "pygments_lexer": "ipython3",
   "version": "3.10.8"
  }
 },
 "nbformat": 4,
 "nbformat_minor": 5
}
